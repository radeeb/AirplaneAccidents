{
 "cells": [
  {
   "cell_type": "markdown",
   "metadata": {
    "collapsed": true
   },
   "source": [
    "## An analysis of Airline crashes from 1908 \n",
    "#### The purpose of this program is to analyse trends and patterns of air disaster over a 100 year period.\n",
    "\n",
    "\n",
    "Dataset:  https://www.kaggle.com/saurograndi/airplane-crashes-since-1908\n",
    "\n",
    "#### Analysis Info:\n",
    "- Examining dataset\n",
    "- Preprocessing Data\n",
    "- Separating the dataset into military and commercial flights\n",
    "- Analyzing Trends and useful information such as Airline with most crashes, General Trend of crash frequency over the last 100 years, crash frequency of major air crashes(high fatalities)  \n",
    "\n"
   ]
  },
  {
   "cell_type": "code",
   "execution_count": 1,
   "metadata": {},
   "outputs": [
    {
     "name": "stdout",
     "output_type": "stream",
     "text": [
      "dataframe head:  \n",
      "              Time                            Location                Operator  \\\n",
      "Date                                                                            \n",
      "1908-09-17  17:18                 Fort Myer, Virginia    Military - U.S. Army   \n",
      "1909-09-07    NaN             Juvisy-sur-Orge, France                     NaN   \n",
      "1912-07-12  06:30           Atlantic City, New Jersey    Military - U.S. Navy   \n",
      "1913-08-06    NaN  Victoria, British Columbia, Canada                 Private   \n",
      "1913-09-09  18:30                  Over the North Sea  Military - German Navy   \n",
      "\n",
      "           Flight #          Route                 AC Type Registration cn/ln  \\\n",
      "Date                                                                            \n",
      "1908-09-17      NaN  Demonstration        Wright Flyer III          NaN     1   \n",
      "1909-09-07      NaN       Air show          Wright Byplane          SC1   NaN   \n",
      "1912-07-12      NaN    Test flight               Dirigible          NaN   NaN   \n",
      "1913-08-06      NaN            NaN        Curtiss seaplane          NaN   NaN   \n",
      "1913-09-09      NaN            NaN  Zeppelin L-1 (airship)          NaN   NaN   \n",
      "\n",
      "            Aboard  Aboard Passangers  Aboard Crew  Fatalities  \\\n",
      "Date                                                             \n",
      "1908-09-17     2.0                1.0          1.0         1.0   \n",
      "1909-09-07     1.0                0.0          1.0         1.0   \n",
      "1912-07-12     5.0                0.0          5.0         5.0   \n",
      "1913-08-06     1.0                0.0          1.0         1.0   \n",
      "1913-09-09    20.0                NaN          NaN        14.0   \n",
      "\n",
      "            Fatalities Passangers  Fatalities Crew  Ground  \\\n",
      "Date                                                         \n",
      "1908-09-17                    1.0              0.0     0.0   \n",
      "1909-09-07                    0.0              0.0     0.0   \n",
      "1912-07-12                    0.0              5.0     0.0   \n",
      "1913-08-06                    0.0              1.0     0.0   \n",
      "1913-09-09                    NaN              NaN     0.0   \n",
      "\n",
      "                                                      Summary  \n",
      "Date                                                           \n",
      "1908-09-17  During a demonstration flight, a U.S. Army fly...  \n",
      "1909-09-07  Eugene Lefebvre was the first pilot to ever be...  \n",
      "1912-07-12  First U.S. dirigible Akron exploded just offsh...  \n",
      "1913-08-06  The first fatal airplane accident in Canada oc...  \n",
      "1913-09-09  The airship flew into a thunderstorm and encou...   \n",
      "\n",
      "<class 'pandas.core.frame.DataFrame'>\n",
      "DatetimeIndex: 4967 entries, 1908-09-17 to 2019-07-30\n",
      "Data columns (total 16 columns):\n",
      "Time                     3457 non-null object\n",
      "Location                 4963 non-null object\n",
      "Operator                 4957 non-null object\n",
      "Flight #                 1315 non-null object\n",
      "Route                    4193 non-null object\n",
      "AC Type                  4952 non-null object\n",
      "Registration             4694 non-null object\n",
      "cn/ln                    4299 non-null object\n",
      "Aboard                   4949 non-null float64\n",
      "Aboard Passangers        4738 non-null float64\n",
      "Aboard Crew              4741 non-null float64\n",
      "Fatalities               4959 non-null float64\n",
      "Fatalities Passangers    4725 non-null float64\n",
      "Fatalities Crew          4726 non-null float64\n",
      "Ground                   4926 non-null float64\n",
      "Summary                  4903 non-null object\n",
      "dtypes: float64(7), object(9)\n",
      "memory usage: 659.7+ KB\n",
      "dataframe info:  \n",
      " None\n"
     ]
    }
   ],
   "source": [
    "import pandas as pd\n",
    "\n",
    "df = pd.read_csv('Airplane_since_1908.csv', parse_dates=True, index_col='Date')\n",
    "\n",
    "print('dataframe head: ' , '\\n' , df.head()  , '\\n' )\n",
    "\n",
    "print('dataframe info: ' , '\\n', df.info())"
   ]
  },
  {
   "cell_type": "code",
   "execution_count": 2,
   "metadata": {},
   "outputs": [
    {
     "name": "stdout",
     "output_type": "stream",
     "text": [
      "(4967, 13)\n"
     ]
    }
   ],
   "source": [
    "#lets drop all columns that are unnecessary for out investigation\n",
    "#We can also see that flight column has almost 3/4 of the entries missing so it wont be useful for our analysis \n",
    "df = df.drop(['Summary', 'cn/ln', 'Registration'], axis =1) \n",
    "\n",
    "\n",
    "#We see that there are still missing values in our data. We can simply delete all entries with missing values and \n",
    "#if the shape of our data changes much. We saw that the size of our data almost halved this way. 4967 to 3166\n",
    "\n",
    "#For the purpose of this project filling the values with 0 seems to be the most logical step \n",
    "\n",
    "#print(df.shape)\n",
    "\n",
    "#df = df.fillna(0)\n",
    "\n",
    "print(df.shape)\n",
    "\n",
    "#df.head()\n"
   ]
  },
  {
   "cell_type": "code",
   "execution_count": 3,
   "metadata": {},
   "outputs": [
    {
     "name": "stdout",
     "output_type": "stream",
     "text": [
      "<class 'pandas.core.frame.DataFrame'>\n",
      "DatetimeIndex: 4755 entries, 1908-09-17 to 2019-07-30\n",
      "Data columns (total 13 columns):\n",
      "Time                     3414 non-null object\n",
      "Location                 4751 non-null object\n",
      "Operator                 4755 non-null object\n",
      "Flight #                 1314 non-null object\n",
      "Route                    4149 non-null object\n",
      "AC Type                  4752 non-null object\n",
      "Aboard                   4753 non-null float64\n",
      "Aboard Passangers        4728 non-null float64\n",
      "Aboard Crew              4731 non-null float64\n",
      "Fatalities               4755 non-null float64\n",
      "Fatalities Passangers    4714 non-null float64\n",
      "Fatalities Crew          4716 non-null float64\n",
      "Ground                   4732 non-null float64\n",
      "dtypes: float64(7), object(6)\n",
      "memory usage: 520.1+ KB\n"
     ]
    }
   ],
   "source": [
    "#DATA CLEANING STAGE AND IMPUTATION\n",
    "#First we drop all entries that has operator missing\n",
    "df = df.dropna(subset=['Operator'])\n",
    "\n",
    "df = df.drop_duplicates()\n",
    "\n",
    "df = df.dropna(thresh=8, axis =0)  # remove all rows if non-null values are less than 8\n",
    "\n",
    "df.info()\n",
    "# we can see that we have lost around 200 entries. That is fine because most of the lost entries had hardly any info\n",
    "\n",
    "'''\n",
    "Next we fill in the missing numeric values with median for the respective years\n",
    "by_year_class = df.groupby(df.index.year)\n",
    "\n",
    "#function to impute median\n",
    "def impute_median(series):\n",
    "    return series.fillna(series.median())\n",
    "\n",
    "#imputing fatalities column with median for that year\n",
    "\n",
    "df['Fatalities'] = by_year_class['Fatalities'].transform(impute_median)\n",
    "'''\n",
    "\n",
    "#write the processed dataset into a csv file\n",
    "df.to_csv('airplance_since_1908_processed.csv')\n"
   ]
  },
  {
   "cell_type": "code",
   "execution_count": 4,
   "metadata": {},
   "outputs": [
    {
     "name": "stdout",
     "output_type": "stream",
     "text": [
      "<class 'pandas.core.frame.DataFrame'>\n",
      "DatetimeIndex: 641 entries, 1908-09-17 to 2019-07-30\n",
      "Data columns (total 13 columns):\n",
      "Time                     470 non-null object\n",
      "Location                 641 non-null object\n",
      "Operator                 641 non-null object\n",
      "Flight #                 38 non-null object\n",
      "Route                    491 non-null object\n",
      "AC Type                  641 non-null object\n",
      "Aboard                   641 non-null float64\n",
      "Aboard Passangers        626 non-null float64\n",
      "Aboard Crew              629 non-null float64\n",
      "Fatalities               641 non-null float64\n",
      "Fatalities Passangers    615 non-null float64\n",
      "Fatalities Crew          619 non-null float64\n",
      "Ground                   640 non-null float64\n",
      "dtypes: float64(7), object(6)\n",
      "memory usage: 70.1+ KB\n",
      "None \n",
      "\n",
      "<class 'pandas.core.frame.DataFrame'>\n",
      "DatetimeIndex: 4114 entries, 1913-08-06 to 2019-05-05\n",
      "Data columns (total 13 columns):\n",
      "Time                     2944 non-null object\n",
      "Location                 4110 non-null object\n",
      "Operator                 4114 non-null object\n",
      "Flight #                 1276 non-null object\n",
      "Route                    3658 non-null object\n",
      "AC Type                  4111 non-null object\n",
      "Aboard                   4112 non-null float64\n",
      "Aboard Passangers        4102 non-null float64\n",
      "Aboard Crew              4102 non-null float64\n",
      "Fatalities               4114 non-null float64\n",
      "Fatalities Passangers    4099 non-null float64\n",
      "Fatalities Crew          4097 non-null float64\n",
      "Ground                   4092 non-null float64\n",
      "dtypes: float64(7), object(6)\n",
      "memory usage: 450.0+ KB\n",
      "None\n"
     ]
    }
   ],
   "source": [
    "#We separate commercial and military airplane entries. We assumme the data set has the word military in the operator column for every military aircraft entry. To do this we must remove entries with null values in the operator col\n",
    "\n",
    "\n",
    "\n",
    "\n",
    "filter = df['Operator'].str.contains('Military') \n",
    "\n",
    "df_mil = df[filter]\n",
    "\n",
    "df_mil.to_csv('airline_military.csv')\n",
    "\n",
    "print(df_mil.info() , '\\n')\n",
    "\n",
    "df_com = df[~filter]\n",
    "\n",
    "print(df_com.info())\n",
    "\n",
    "df_com.to_csv('airline_commercial.csv')\n"
   ]
  },
  {
   "cell_type": "code",
   "execution_count": 5,
   "metadata": {},
   "outputs": [
    {
     "data": {
      "image/png": "[encoded data removed]",
      "text/plain": [
       "<matplotlib.figure.Figure at 0x28d39d3dba8>"
      ]
     },
     "metadata": {},
     "output_type": "display_data"
    },
    {
     "data": {
      "image/png": "[encoded data removed]",
      "text/plain": [
       "<matplotlib.figure.Figure at 0x28d3d88dd30>"
      ]
     },
     "metadata": {},
     "output_type": "display_data"
    }
   ],
   "source": [
    "#COMMERCIAL vs MILITARY : analyzing number of crashes(ALL incidents) over the years \n",
    "\n",
    "import matplotlib.pyplot as plt\n",
    "\n",
    "df_com_yearly = df_com.groupby(df_com.index.year)['Fatalities'].count() #returns a series\n",
    "\n",
    "df_com_yearly.plot()\n",
    "plt.show()\n",
    "\n",
    "df_mil_yearly = df_mil.groupby(df_mil.index.year)['Fatalities'].count() #returns a series\n",
    "df_mil_yearly.plot()\n",
    "plt.show()\n",
    "\n"
   ]
  },
  {
   "cell_type": "code",
   "execution_count": 6,
   "metadata": {},
   "outputs": [
    {
     "name": "stdout",
     "output_type": "stream",
     "text": [
      "Operator\n",
      "\\tAerolineas Flecha Austral - ALFA     4.0\n",
      "\\tAmazonavesAir Taxi                   7.0\n",
      "\\tCHC Helikopter Service              13.0\n",
      "\\tLoide Aéreo Nacional                10.0\n",
      " Airlines  PNG                        13.0\n",
      "Name: Fatalities, dtype: float64\n",
      "                                     max   sum\n",
      "Operator                                      \n",
      "\\tAerolineas Flecha Austral - ALFA   4.0   4.0\n",
      "\\tAmazonavesAir Taxi                 7.0   7.0\n",
      "\\tCHC Helikopter Service            13.0  13.0\n",
      "\\tLoide Aéreo Nacional              10.0  10.0\n",
      " Airlines  PNG                      13.0  13.0\n",
      "\n",
      " Total number of crashes per airline (top 10) Operator\n",
      "Aeroflot                               250\n",
      "Air France                              66\n",
      "Deutsche Lufthansa                      63\n",
      "United Air Lines                        44\n",
      "Pan American World Airways              41\n",
      "China National Aviation Corporation     37\n",
      "American Airlines                       37\n",
      "KLM Royal Dutch Airlines                34\n",
      "Indian Airlines                         34\n",
      "Philippine Air Lines                    33\n",
      "Name: Fatalities, dtype: int64\n"
     ]
    }
   ],
   "source": [
    "#COMMERCIAL \n",
    "#groupby operators OF flight and summing their total fatalities\n",
    "\n",
    "df_com_grouped = df_com.groupby('Operator')['Fatalities'].sum()\n",
    "\n",
    "print(df_com_grouped.head())\n",
    "\n",
    "\n",
    "#printing max and sum\n",
    "print(df_com.groupby('Operator')['Fatalities'].agg(['max','sum']).head())\n",
    "\n",
    "#printing total number of incidents per airline\n",
    "print('\\n Total number of crashes per airline (top 10)', \n",
    "      df_com.groupby('Operator')['Fatalities'].count().sort_values(ascending=False).head(10))"
   ]
  },
  {
   "cell_type": "code",
   "execution_count": 7,
   "metadata": {},
   "outputs": [
    {
     "name": "stderr",
     "output_type": "stream",
     "text": [
      "C:\\Users\\Radeeb. J.B\\Anaconda3\\lib\\site-packages\\scipy\\stats\\stats.py:2247: RuntimeWarning: invalid value encountered in true_divide\n",
      "  return (a - mns) / sstd\n"
     ]
    },
    {
     "name": "stdout",
     "output_type": "stream",
     "text": [
      "Date\n",
      "1913-08-06   -1.129490\n",
      "1918-12-16   -0.244137\n",
      "1919-05-25   -0.244137\n",
      "1919-07-19   -0.244137\n",
      "1919-07-21         NaN\n",
      "Name: Fatalities, dtype: float64\n"
     ]
    }
   ],
   "source": [
    "#COMMERCIAL \n",
    "#detecting outliers using z score\n",
    "\n",
    "from scipy.stats import zscore\n",
    "\n",
    "standardized = df_com.groupby('Operator')['Fatalities'].transform(zscore)\n",
    "\n",
    "print(standardized.head())\n"
   ]
  },
  {
   "cell_type": "code",
   "execution_count": 8,
   "metadata": {},
   "outputs": [
    {
     "data": {
      "image/png": "[encoded data removed]",
      "text/plain": [
       "<matplotlib.figure.Figure at 0x28d3e74a9b0>"
      ]
     },
     "metadata": {},
     "output_type": "display_data"
    }
   ],
   "source": [
    "#find major air disasters in commercial airlines (more than 50 fatalities)\n",
    "\n",
    "df_com_major = df_com.loc[df_com['Fatalities'] > 50]\n",
    "\n",
    "df_com_major_yearly = df_com_major.groupby(df_com_major.index.year)['Fatalities'].count() #returns a series\n",
    "\n",
    "df_com_major_yearly.plot()\n",
    "plt.show()\n",
    "\n",
    "\n",
    "#print(df_com_major.head())\n"
   ]
  },
  {
   "cell_type": "code",
   "execution_count": null,
   "metadata": {
    "collapsed": true
   },
   "outputs": [],
   "source": []
  }
 ],
 "metadata": {
  "kernelspec": {
   "display_name": "Python 3",
   "language": "python",
   "name": "python3"
  },
  "language_info": {
   "codemirror_mode": {
    "name": "ipython",
    "version": 3
   },
   "file_extension": ".py",
   "mimetype": "text/x-python",
   "name": "python",
   "nbconvert_exporter": "python",
   "pygments_lexer": "ipython3",
   "version": "3.6.1"
  }
 },
 "nbformat": 4,
 "nbformat_minor": 2
}
